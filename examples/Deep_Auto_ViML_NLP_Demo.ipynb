{
 "cells": [
  {
   "cell_type": "code",
   "execution_count": 1,
   "metadata": {},
   "outputs": [
    {
     "name": "stdout",
     "output_type": "stream",
     "text": [
      "\n",
      "Imported deep_auto_viml. version=0.0.26\n",
      "from deep_autoviml import deep_autoviml as deepauto\n",
      "-------------------\n",
      "model, cat_vocab_dict = deepauto.fit(train, target, keras_model_type=\"auto\",\n",
      "\t\tproject_name=\"deep_autoviml\", keras_options={}, model_options={}, \n",
      "\t\tsave_model_flag=True, use_my_model='', verbose=0)\n",
      "\n",
      "predictions = deepauto.predict(model, project_name, test_dataset=test,\n",
      "                                 keras_model_type=keras_model_type, \n",
      "                                 cat_vocab_dict=cat_vocab_dict)\n",
      "                                \n"
     ]
    }
   ],
   "source": [
    "from deep_autoviml import deep_autoviml as deepauto\n",
    "import numpy as np\n",
    "import pandas as pd\n",
    "from sklearn.model_selection import train_test_split\n",
    "from sklearn.preprocessing import StandardScaler"
   ]
  },
  {
   "cell_type": "markdown",
   "metadata": {},
   "source": [
    "import tensorflow as tf\n",
    "import optuna\n",
    "from tensorflow.keras.optimizers import SGD, Adam\n",
    "from tensorflow.keras.layers import Dropout, BatchNormalization, GaussianNoise\n",
    "from storm_tuner import Tuner\n",
    "from tensorflow import keras"
   ]
  },
  {
   "cell_type": "code",
   "execution_count": 2,
   "metadata": {},
   "outputs": [],
   "source": [
    "BATCHSIZE = 256\n",
    "CLASSES = 10\n",
    "EPOCHS = 25\n",
    "NUM_TRIALS = 5"
   ]
  },
  {
   "cell_type": "code",
   "execution_count": 3,
   "metadata": {},
   "outputs": [
    {
     "name": "stdout",
     "output_type": "stream",
     "text": [
      "(499, 4)\n"
     ]
    },
    {
     "data": {
      "text/html": [
       "<div>\n",
       "<style scoped>\n",
       "    .dataframe tbody tr th:only-of-type {\n",
       "        vertical-align: middle;\n",
       "    }\n",
       "\n",
       "    .dataframe tbody tr th {\n",
       "        vertical-align: top;\n",
       "    }\n",
       "\n",
       "    .dataframe thead th {\n",
       "        text-align: right;\n",
       "    }\n",
       "</style>\n",
       "<table border=\"1\" class=\"dataframe\">\n",
       "  <thead>\n",
       "    <tr style=\"text-align: right;\">\n",
       "      <th></th>\n",
       "      <th>Text_ID</th>\n",
       "      <th>Product_Description</th>\n",
       "      <th>Product_Type</th>\n",
       "      <th>Sentiment</th>\n",
       "    </tr>\n",
       "  </thead>\n",
       "  <tbody>\n",
       "    <tr>\n",
       "      <th>0</th>\n",
       "      <td>3057</td>\n",
       "      <td>The Web DesignerÛªs Guide to iOS (and Android...</td>\n",
       "      <td>9</td>\n",
       "      <td>2</td>\n",
       "    </tr>\n",
       "  </tbody>\n",
       "</table>\n",
       "</div>"
      ],
      "text/plain": [
       "   Text_ID                                Product_Description  Product_Type  \\\n",
       "0     3057  The Web DesignerÛªs Guide to iOS (and Android...             9   \n",
       "\n",
       "   Sentiment  \n",
       "0          2  "
      ]
     },
     "execution_count": 3,
     "metadata": {},
     "output_type": "execute_result"
    }
   ],
   "source": [
    "# download dataset from Kaggle: https://www.kaggle.com/arkhoshghalb/twitter-sentiment-analysis-hatred-speech?select=train.csv\n",
    "datapath = 'C:/Users/Ram/Documents/Ram/Data_Sets/'\n",
    "sep = ','\n",
    "filename = 'NLP_small.csv'\n",
    "df = pd.read_csv(datapath+filename,sep=sep)\n",
    "target = 'Sentiment'\n",
    "print(df.shape)\n",
    "df.head(1)"
   ]
  },
  {
   "cell_type": "code",
   "execution_count": 4,
   "metadata": {},
   "outputs": [
    {
     "data": {
      "text/plain": [
       "2    305\n",
       "3    158\n",
       "1     35\n",
       "0      1\n",
       "Name: Sentiment, dtype: int64"
      ]
     },
     "execution_count": 4,
     "metadata": {},
     "output_type": "execute_result"
    }
   ],
   "source": [
    "df[target].value_counts()"
   ]
  },
  {
   "cell_type": "code",
   "execution_count": 5,
   "metadata": {},
   "outputs": [],
   "source": [
    "keras_model_type =  \"USE\" ## always try \"auto\" first, then \"basic\", \"deep\", \"BERT\", \"USE\", cnn1\", \"LSTM\" etc.\n",
    "keras_options = {\"early_stopping\": True, 'epochs': 350, 'steps_per_epoch': 15, 'class_weight': True}  ### always set early_stopping to True first and then change it to False\n",
    "model_options = {'tuner':\"storm\", \"max_trials\":10, }\n",
    "cat_vocab_dict = {}\n",
    "## always set the tuner to \"storm\" first and then \"optuna\"\n",
    "#### You always need 15 max_trials to get something decent #####\n",
    "trainfile = datapath+filename"
   ]
  },
  {
   "cell_type": "code",
   "execution_count": null,
   "metadata": {
    "scrolled": false
   },
   "outputs": [
    {
     "name": "stdout",
     "output_type": "stream",
     "text": [
      "    Only CPU found on this device\n",
      "Setting CPU strategy using 1 devices\n",
      "Using following keras_options given as input:\n",
      "    epochs : 350\n",
      "    steps_per_epoch : 15\n",
      "    class_weight : True\n",
      "    early_stopping : True\n",
      "Using following model_options given as input:\n",
      "    max_trials : 10\n",
      "    tuner : storm\n",
      "\n",
      "#################################################################################\n",
      "###########     L O A D I N G    D A T A    I N T O   TF.DATA.DATASET H E R E  #\n",
      "#################################################################################\n",
      "        \n",
      "CSV file being loaded into tf.data.Dataset\n",
      "Since number of rows in file <= 10000 maxrows, loading entire file into pandas for EDA\n",
      "    Modified column names to fit no-spaces-in-column-names Rule in Tensorflow!\n",
      "    Model type is Multi_Classification and Single_Label problem\n",
      "Loaded a small data sample of size = (499, 4) into pandas dataframe to analyze...\n",
      "    Classifying variables using data sample in pandas...\n",
      "############## C L A S S I F Y I N G  V A R I A B L E S  ####################\n",
      "Classifying variables in data set...\n",
      "Data Set Shape: 499 rows, 3 cols\n",
      "Data Set columns info:\n",
      "* Text_ID: 0 nulls, 499 unique vals, most common: {3075: 1, 6806: 1}\n",
      "* Product_Description: 0 nulls, 499 unique vals, most common: {\"RT @mention Get it while it's hot! The latest version of Whrrl is available today for Android, iPhone - and Blackberry! WHRRL FOR BLACKBERRY! :-) #SXSW\": 1, 'RT @mention Google Art Project - like street view, except in art museums around the world. Incl. 7 BILLION pixel image of Starry Night. Dang! #sxsw': 1}\n",
      "* Product_Type: 0 nulls, 9 unique vals, most common: {9: 314, 6: 56}\n",
      "--------------------------------------------------------------------\n",
      "    3 Predictors classified...\n",
      "        1 variable(s) to be removed since they were ID or low-information variables\n",
      "    List of variables to be removed: ['Text_ID']\n",
      "printing first five values of Sentiment: [2 2 2 2 2]\n",
      "printing features and their max, min, datatypes in one batch \n",
      "    Product_Description is detected as an NLP variable\n",
      "  'Product_Description': ['The Web Designer\\x89Ûªs Guide to iOS (and Android) Apps, today @mention 10 a.m! {link} #sxsw'\n",
      " 'RT @mention Line for iPad 2 is longer today than yesterday. #SXSW  // are you getting in line again today just for fun?'\n",
      " 'Crazy that Apple is opening a temporary store in Austin tomorrow to handle the rabid #sxsw eye pad too seekers.'\n",
      " 'The lesson from Google One Pass: In this digital environment, users want to purchase across every platform with one tool. #sxsw #elonsxsw']\n",
      "  '    size of vocab'      : 10558\n",
      "  '    max'                : defaultdict(<function nested_dictionary at 0x0000013905FA6550>, {})\n",
      "  '    min'                : defaultdict(<function nested_dictionary at 0x0000013905FA6550>, {})\n",
      "  '    dtype'              : string\n",
      "  'Product_Type'      : [9 9 9 9]\n",
      "  '    size of vocab'      : 9\n",
      "  '    max'                : defaultdict(<function nested_dictionary at 0x0000013905FA6550>, {})\n",
      "  '    min'                : defaultdict(<function nested_dictionary at 0x0000013905FA6550>, {})\n",
      "  '    dtype'              : int32\n",
      "Loading your input file(s) data directly into tf.data.Dataset...\n",
      "    train data loaded successfully.\n",
      "\n",
      "Number of predictors to be used = 2 in next step: keras preprocessing...\n",
      "Dropping ['Text_ID'] columns marked for deletion...\n",
      "Printing one batch from the dataset:\n",
      "Text_ID                                 : [3057 6254 8212 4422]\n",
      "Product_Description                     : [b'The Web Designer\\xc2\\x89\\xc3\\x9b\\xc2\\xaas Guide to iOS (and Android) Apps, today @mention 10 a.m! {link} #sxsw'\n",
      " b'RT @mention Line for iPad 2 is longer today than yesterday. #SXSW  // are you getting in line again today just for fun?'\n",
      " b'Crazy that Apple is opening a temporary store in Austin tomorrow to handle the rabid #sxsw eye pad too seekers.'\n",
      " b'The lesson from Google One Pass: In this digital environment, users want to purchase across every platform with one tool. #sxsw #elonsxsw']\n",
      "Product_Type                            : [9 9 9 9]\n",
      "Transforming Sentiment target labels...\n",
      "    Original labels type is int64 \n",
      "Target Transformed as follows: {0: 0, 1: 1, 2: 2, 3: 3}\n",
      "    Transformed labels type to Numeric\n",
      "       Class  -> Counts -> Percent\n",
      "           0:       1  ->    0.2%\n",
      "           1:      35  ->    7.0%\n",
      "           2:     305  ->   61.1%\n",
      "           3:     158  ->   31.7%\n",
      "    Class weights calculcated: {2: 1.0, 1: 1.0, 3: 1.0, 0: 4.3154861108656375}\n",
      "\n",
      "#################################################################################\n",
      "###########     K E R A S     F E A T U R E    P R E P R O C E S S I N G  #######\n",
      "#################################################################################\n",
      "        \n",
      "Starting NLP string column layer preprocessing...\n",
      "    best embedding_size chosen = 26\n",
      "    Universal Sentence Encoder auto-selected: https://tfhub.dev/google/universal-sentence-encoder-cmlm/en-base/1\n",
      "    Preprocessor auto-selected: https://tfhub.dev/tensorflow/bert_en_uncased_preprocess/3\n",
      "    NLP Preprocessing completed.\n",
      "Preprocessing non-NLP layers for USE Keras model...\n",
      "    starting categorical, float and integer layer preprocessing...\n",
      "Max Tokens for categorical and integer variables: defaultdict(<class 'int'>, {'Product_Type': 54})\n",
      "    Product_Type : after integer categorical encoding shape: 54\n",
      "Time taken for preprocessing (in seconds) = 0\n",
      "    All non-NLP features preprocessing completed.\n",
      "Inferred column names, layers and types (double-check for duplicates and correctness!): \n",
      "[('Product_Description', tf.string), ('Product_Type', tf.int32)]\n",
      "    Shape of output from numeric+integer+cat variables before model training = (None, 64)\n",
      "    Shape of output from NLP variable before model training = (None, 4)\n",
      "Shape of output from all preprocessing layers before model training = (None, 68)\n",
      "\n",
      "Creating a new Functional model here...\n",
      " \n",
      "#################################################################################\n",
      "###########     C R E A T I N G    A    K E R A S       M O D E L    ############\n",
      "#################################################################################\n",
      "        \n",
      "Recommended hidden layers (with units in each Dense Layer)  = (96, 64, 32)\n",
      "\n",
      "    building a USE model...\n",
      "    USE model loaded and compiled successfully...\n",
      "Loading a pre-built USE model...\n",
      "    USE model loaded successfully. Now compiling model...\n",
      "Model: \"model\"\n",
      "__________________________________________________________________________________________________\n",
      "Layer (type)                    Output Shape         Param #     Connected to                     \n",
      "==================================================================================================\n",
      "Product_Type (InputLayer)       [(None, 1)]          0                                            \n",
      "__________________________________________________________________________________________________\n",
      "integer_lookup (IntegerLookup)  (None, 1)            0           Product_Type[0][0]               \n",
      "__________________________________________________________________________________________________\n",
      "Product_Description (InputLayer [(None,)]            0                                            \n",
      "__________________________________________________________________________________________________\n",
      "category_encoding (CategoryEnco (None, 54)           0           integer_lookup[0][0]             \n",
      "__________________________________________________________________________________________________\n",
      "USE_preprocessing (KerasLayer)  {'input_mask': (None 0           Product_Description[0][0]        \n",
      "__________________________________________________________________________________________________\n",
      "dense_11 (Dense)                (None, 64)           3520        category_encoding[0][0]          \n",
      "__________________________________________________________________________________________________\n",
      "USE_encoder (KerasLayer)        {'default': (None, 7 109482241   USE_preprocessing[0][0]          \n",
      "                                                                 USE_preprocessing[0][1]          \n",
      "                                                                 USE_preprocessing[0][2]          \n",
      "__________________________________________________________________________________________________\n",
      "batch_normalization_12 (BatchNo (None, 64)           256         dense_11[0][0]                   \n",
      "__________________________________________________________________________________________________\n",
      "dense_12 (Dense)                (None, 4)            3076        USE_encoder[0][0]                \n",
      "__________________________________________________________________________________________________\n",
      "activation_5 (Activation)       (None, 64)           0           batch_normalization_12[0][0]     \n",
      "__________________________________________________________________________________________________\n",
      "concatenate (Concatenate)       (None, 68)           0           dense_12[0][0]                   \n",
      "                                                                 activation_5[0][0]               \n",
      "__________________________________________________________________________________________________\n",
      "dense_13 (Dense)                (None, 96)           6624        concatenate[0][0]                \n",
      "__________________________________________________________________________________________________\n",
      "output_0 (Dense)                (None, 4)            388         dense_13[0][0]                   \n",
      "==================================================================================================\n",
      "Total params: 109,496,105\n",
      "Trainable params: 13,736\n",
      "Non-trainable params: 109,482,369\n",
      "__________________________________________________________________________________________________\n",
      "None\n"
     ]
    },
    {
     "data": {
      "image/png": "[encoded data removed]",
      "text/plain": [
       "<IPython.core.display.Image object>"
      ]
     },
     "metadata": {
      "image/png": {
       "height": 83,
       "width": 1567
      }
     },
     "output_type": "display_data"
    },
    {
     "name": "stdout",
     "output_type": "stream",
     "text": [
      "Model plot saved in file: deep_autoviml_churn_1_USE_model_before.png\n",
      "\n",
      "#################################################################################\n",
      "###########     T R A I N I N G    K E R A S   M O D E L   H E R E      #########\n",
      "#################################################################################\n",
      "    \n",
      "Training a USE model option...\n",
      "    class_weights: {2: 1.0, 1: 1.0, 3: 1.0, 0: 4.3154861108656375}\n",
      "    original datasize = 10000, initial batchsize = 10\n",
      "    recommended steps per epoch = 40\n",
      "    default initializer = lecun_normal, default activation = selu\n",
      "    Using optimizer = Adam obj\n",
      "    Tensorboard log directory can be found at: deep_autoviml\\mylogs\n",
      "    val mode = max, val monitor = val_balanced_sparse_categorical_accuracy, patience = 10\n",
      "    number of epochs = 350, steps per epoch = 15\n",
      "    Splitting train into two: train and validation data\n",
      "    Splitting validation into two: valid and heldout data\n",
      " Shuffle size = 100000\n",
      "Training USE model now. This will take time...\n",
      "Epoch 1/350\n",
      "15/15 [==============================] - 151s 9s/step - loss: 1.6319 - balanced_sparse_categorical_accuracy: 0.6551 - val_loss: 1.1967 - val_balanced_sparse_categorical_accuracy: 0.4936\n",
      "Epoch 2/350\n",
      "15/15 [==============================] - 98s 7s/step - loss: 1.0007 - balanced_sparse_categorical_accuracy: 0.7234 - val_loss: 0.9475 - val_balanced_sparse_categorical_accuracy: 0.5385\n",
      "Epoch 3/350\n",
      "15/15 [==============================] - 95s 7s/step - loss: 1.0186 - balanced_sparse_categorical_accuracy: 0.7364 - val_loss: 0.8895 - val_balanced_sparse_categorical_accuracy: 0.5192\n",
      "Epoch 4/350\n",
      "15/15 [==============================] - 100s 7s/step - loss: 0.9169 - balanced_sparse_categorical_accuracy: 0.7401 - val_loss: 0.8608 - val_balanced_sparse_categorical_accuracy: 0.5192\n",
      "Epoch 5/350\n",
      "15/15 [==============================] - 100s 7s/step - loss: 0.8143 - balanced_sparse_categorical_accuracy: 0.7307 - val_loss: 0.8536 - val_balanced_sparse_categorical_accuracy: 0.5513\n",
      "Epoch 6/350\n",
      "15/15 [==============================] - 106s 7s/step - loss: 0.8475 - balanced_sparse_categorical_accuracy: 0.7363 - val_loss: 0.8280 - val_balanced_sparse_categorical_accuracy: 0.5513\n",
      "Epoch 7/350\n",
      "15/15 [==============================] - 130s 9s/step - loss: 0.7486 - balanced_sparse_categorical_accuracy: 0.7595 - val_loss: 0.8081 - val_balanced_sparse_categorical_accuracy: 0.6026\n",
      "Epoch 8/350\n",
      "15/15 [==============================] - 106s 7s/step - loss: 0.8357 - balanced_sparse_categorical_accuracy: 0.7452 - val_loss: 0.7944 - val_balanced_sparse_categorical_accuracy: 0.6026\n",
      "Epoch 9/350\n",
      "15/15 [==============================] - 109s 8s/step - loss: 0.7958 - balanced_sparse_categorical_accuracy: 0.7626 - val_loss: 0.7699 - val_balanced_sparse_categorical_accuracy: 0.6026\n",
      "Epoch 10/350\n",
      "15/15 [==============================] - 116s 8s/step - loss: 0.6889 - balanced_sparse_categorical_accuracy: 0.7395 - val_loss: 0.7628 - val_balanced_sparse_categorical_accuracy: 0.6026\n",
      "Epoch 11/350\n"
     ]
    }
   ],
   "source": [
    "model, dicti = deepauto.fit(trainfile, target, keras_model_type=keras_model_type, \n",
    "                            project_name='churn_1',\n",
    "                 save_model_flag=False, model_options=model_options,\n",
    "                            keras_options=keras_options, use_my_model='', verbose=2)"
   ]
  },
  {
   "cell_type": "code",
   "execution_count": null,
   "metadata": {},
   "outputs": [],
   "source": [
    "filename = 'NLP_small.csv'\n",
    "testfile = datapath+filename"
   ]
  },
  {
   "cell_type": "code",
   "execution_count": null,
   "metadata": {},
   "outputs": [],
   "source": [
    "predictions = deepauto.predict(model, project_name='churn_1', test_dataset=testfile,\n",
    "                                 keras_model_type=keras_model_type, \n",
    "                                 cat_vocab_dict=dicti)"
   ]
  },
  {
   "cell_type": "code",
   "execution_count": null,
   "metadata": {},
   "outputs": [],
   "source": [
    "test = pd.read_csv(testfile)\n",
    "predictions[0][:5]"
   ]
  },
  {
   "cell_type": "code",
   "execution_count": null,
   "metadata": {},
   "outputs": [],
   "source": [
    "predictions[1][:5]"
   ]
  },
  {
   "cell_type": "code",
   "execution_count": null,
   "metadata": {},
   "outputs": [],
   "source": [
    "test[target].values[:5]"
   ]
  },
  {
   "cell_type": "code",
   "execution_count": null,
   "metadata": {},
   "outputs": [],
   "source": [
    "from sklearn.metrics import classification_report, confusion_matrix, mean_absolute_error, mean_squared_error\n",
    "print(classification_report(test[target].values,predictions[1]))\n",
    "#print(np.sqrt(mean_squared_error(test[target].values,predictions[0])))"
   ]
  },
  {
   "cell_type": "raw",
   "metadata": {},
   "source": [
    "logdir = 'deep_autoviml\\mylogs'\n",
    "## Load the TensorBoard notebook extension\n",
    "%load_ext tensorboard\n",
    "%tensorboard --logdir=logdir"
   ]
  },
  {
   "cell_type": "code",
   "execution_count": null,
   "metadata": {},
   "outputs": [],
   "source": []
  },
  {
   "cell_type": "code",
   "execution_count": null,
   "metadata": {},
   "outputs": [],
   "source": []
  },
  {
   "cell_type": "code",
   "execution_count": null,
   "metadata": {},
   "outputs": [],
   "source": []
  },
  {
   "cell_type": "code",
   "execution_count": null,
   "metadata": {},
   "outputs": [],
   "source": []
  }
 ],
 "metadata": {
  "kernelspec": {
   "display_name": "Python 3",
   "language": "python",
   "name": "python3"
  },
  "language_info": {
   "codemirror_mode": {
    "name": "ipython",
    "version": 3
   },
   "file_extension": ".py",
   "mimetype": "text/x-python",
   "name": "python",
   "nbconvert_exporter": "python",
   "pygments_lexer": "ipython3",
   "version": "3.8.5"
  }
 },
 "nbformat": 4,
 "nbformat_minor": 4
}
