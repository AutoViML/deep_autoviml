{
 "cells": [
  {
   "cell_type": "code",
   "execution_count": 1,
   "metadata": {},
   "outputs": [
    {
     "name": "stdout",
     "output_type": "stream",
     "text": [
      "\n",
      "Imported deep_auto_viml. version=0.0.52\n",
      "from deep_autoviml import deep_autoviml as deepauto\n",
      "-------------------\n",
      "model, cat_vocab_dict = deepauto.fit(train, target, keras_model_type=\"fast\",\n",
      "\t\tproject_name=\"deep_autoviml\", keras_options=keras_options,\n",
      "\t\tmodel_options=model_options, save_model_flag=True, use_my_model='',\n",
      "\t\tmodel_use_case='', verbose=0)\n",
      "\n",
      "predictions = deepauto.predict(model, project_name, test_dataset=test,\n",
      "                                 keras_model_type=keras_model_type,\n",
      "                                 cat_vocab_dict=cat_vocab_dict)\n",
      "                                \n"
     ]
    }
   ],
   "source": [
    "from deep_autoviml import deep_autoviml as deepauto"
   ]
  },
  {
   "cell_type": "code",
   "execution_count": 2,
   "metadata": {},
   "outputs": [],
   "source": [
    "from deep_autoviml.data_load.extract import load_text_data"
   ]
  },
  {
   "cell_type": "code",
   "execution_count": 3,
   "metadata": {},
   "outputs": [],
   "source": [
    "project_name=\"deep_autoviml\"\n",
    "#model_options={'text_directory':'aclImdb/'}\n",
    "model_options = {}\n",
    "keras_options={}\n",
    "keras_model_type = \"text\"\n",
    "#text_data_or_file = 'aclImdb/'\n",
    "text_data_or_file = '../../data_sets/NLP_small.csv'"
   ]
  },
  {
   "cell_type": "code",
   "execution_count": 4,
   "metadata": {},
   "outputs": [
    {
     "data": {
      "text/html": [
       "<div>\n",
       "<style scoped>\n",
       "    .dataframe tbody tr th:only-of-type {\n",
       "        vertical-align: middle;\n",
       "    }\n",
       "\n",
       "    .dataframe tbody tr th {\n",
       "        vertical-align: top;\n",
       "    }\n",
       "\n",
       "    .dataframe thead th {\n",
       "        text-align: right;\n",
       "    }\n",
       "</style>\n",
       "<table border=\"1\" class=\"dataframe\">\n",
       "  <thead>\n",
       "    <tr style=\"text-align: right;\">\n",
       "      <th></th>\n",
       "      <th>Product_Description</th>\n",
       "      <th>Sentiment</th>\n",
       "    </tr>\n",
       "  </thead>\n",
       "  <tbody>\n",
       "    <tr>\n",
       "      <th>0</th>\n",
       "      <td>The Web DesignerÛªs Guide to iOS (and Android...</td>\n",
       "      <td>2</td>\n",
       "    </tr>\n",
       "  </tbody>\n",
       "</table>\n",
       "</div>"
      ],
      "text/plain": [
       "                                 Product_Description  Sentiment\n",
       "0  The Web DesignerÛªs Guide to iOS (and Android...          2"
      ]
     },
     "execution_count": 4,
     "metadata": {},
     "output_type": "execute_result"
    }
   ],
   "source": [
    "import pandas as pd\n",
    "df = pd.read_csv(text_data_or_file)\n",
    "df = df[[\"Product_Description\",\"Sentiment\"]]\n",
    "df.head(1)"
   ]
  },
  {
   "cell_type": "raw",
   "metadata": {},
   "source": [
    "train_ds, valid_ds, cat_vocab_dict, model_options = load_text_data(text_data_or_file,\n",
    "                                                    project_name=\"deep_autoviml\", \n",
    "                                                    keras_options={}, model_options={'text_directory':'aclImdb/'},\n",
    "                        verbose=0)"
   ]
  },
  {
   "cell_type": "code",
   "execution_count": 5,
   "metadata": {
    "scrolled": false
   },
   "outputs": [
    {
     "name": "stdout",
     "output_type": "stream",
     "text": [
      "    Only CPU found on this device\n",
      "Setting CPU strategy using 1 devices\n",
      "    No text directory given. Using train data given in ../../data_sets/NLP_small.csv...\n",
      "CSV file being loaded into tf.data.Dataset\n",
      "    Since number of rows in file <= 10000 maxrows, loading entire file into pandas for EDA\n",
      "    Model type is Multi_Classification and Single_Label problem\n",
      "Alert! Modified column names to satisfy rules for column names in Tensorflow...\n",
      "    Model type is Multi_Classification and Single_Label problem\n",
      "Loaded a small data sample of size = (498, 4) into pandas dataframe to analyze...\n",
      "    Classifying variables using data sample in pandas...\n",
      "############## C L A S S I F Y I N G  V A R I A B L E S  ####################\n",
      "Classifying variables in data set...\n",
      "    3 Predictors classified...\n",
      "    possible latitude columns in dataset: []\n",
      "        after further analysis, no latitude columns found\n",
      "    possible longitude columns in dataset: []\n",
      "        after further analysis, no longitude columns found\n",
      "        1 variable(s) to be removed since they were ID or low-information variables\n",
      "Distribution of string columns in datatset:\n",
      "    number of binary = 0, cats = 0, high cats = 0, very high cats = 1\n",
      "Distribution of integer columns in datatset:\n",
      "    number of binary = 0, cats = 2, high cats = 0, very high cats = 1\n",
      "Distribution of floats: floats = 0\n",
      "Data Transformation Advisory:\n",
      "    transformed ['text_id'] from integer to float\n",
      "    product_description is detected as an NLP variable\n",
      "Not performing feature crossing for categorical nor integer variables\n",
      "Transforming sentiment target labels...\n",
      "    Original labels dtype is int64 \n",
      "sentiment transformed as follows: {1: 0, 2: 1, 3: 2}\n",
      "    transformed target labels data type to numeric or ordered from 0\n",
      "Loading your input file(s) data directly into tf.data.Dataset...\n",
      "    target label encoding now...\n",
      "    target label encoding completed.\n",
      "    train data loaded successfully.\n",
      "Boolean column successfully processed\n",
      "\n",
      "Number of predictors to be used = 2 in predict step: keras preprocessing...\n",
      "Dropping ['text_id'] columns marked for deletion...\n",
      "       Class  -> Counts -> Percent\n",
      "           0:      35  ->    7.0%\n",
      "           1:     305  ->   61.2%\n",
      "           2:     158  ->   31.7%\n",
      "Loaded text classification file or dataframe using input given:\n",
      "\n",
      "Splitting train into 80+20 percent: train and validation data\n",
      "Tensorboard log directory can be found at: deep_autoviml_text/mylogs\n",
      "Training text model. This will take time...\n",
      "Epoch 1/20\n",
      "8/8 [==============================] - 1s 47ms/step - loss: 1.1983 - accuracy: 0.3967 - val_loss: 1.0843 - val_accuracy: 0.4211\n",
      "Epoch 2/20\n",
      "8/8 [==============================] - 0s 22ms/step - loss: 1.0951 - accuracy: 0.4380 - val_loss: 1.0070 - val_accuracy: 0.4474\n",
      "Epoch 3/20\n",
      "8/8 [==============================] - 0s 19ms/step - loss: 1.0147 - accuracy: 0.4463 - val_loss: 0.9510 - val_accuracy: 0.4912\n",
      "Epoch 4/20\n",
      "8/8 [==============================] - 0s 23ms/step - loss: 0.9556 - accuracy: 0.4876 - val_loss: 0.9131 - val_accuracy: 0.5439\n",
      "Epoch 5/20\n",
      "8/8 [==============================] - 0s 20ms/step - loss: 0.9146 - accuracy: 0.5289 - val_loss: 0.8897 - val_accuracy: 0.5439\n",
      "Epoch 6/20\n",
      "8/8 [==============================] - 0s 21ms/step - loss: 0.8874 - accuracy: 0.5496 - val_loss: 0.8759 - val_accuracy: 0.5526\n",
      "Epoch 7/20\n",
      "8/8 [==============================] - 0s 22ms/step - loss: 0.8696 - accuracy: 0.5620 - val_loss: 0.8683 - val_accuracy: 0.5702\n",
      "Epoch 8/20\n",
      "8/8 [==============================] - 0s 21ms/step - loss: 0.8579 - accuracy: 0.5785 - val_loss: 0.8641 - val_accuracy: 0.5614\n",
      "Epoch 9/20\n",
      "8/8 [==============================] - 0s 21ms/step - loss: 0.8499 - accuracy: 0.5826 - val_loss: 0.8614 - val_accuracy: 0.5614\n",
      "Epoch 10/20\n",
      "8/8 [==============================] - 0s 24ms/step - loss: 0.8441 - accuracy: 0.5909 - val_loss: 0.8592 - val_accuracy: 0.5614\n",
      "Epoch 11/20\n",
      "8/8 [==============================] - 0s 21ms/step - loss: 0.8393 - accuracy: 0.5909 - val_loss: 0.8571 - val_accuracy: 0.5526\n",
      "Epoch 12/20\n",
      "8/8 [==============================] - 0s 20ms/step - loss: 0.8349 - accuracy: 0.5992 - val_loss: 0.8550 - val_accuracy: 0.5614\n",
      "Epoch 13/20\n",
      "8/8 [==============================] - 0s 24ms/step - loss: 0.8307 - accuracy: 0.6033 - val_loss: 0.8528 - val_accuracy: 0.5702\n",
      "Epoch 14/20\n",
      "8/8 [==============================] - 0s 24ms/step - loss: 0.8266 - accuracy: 0.6074 - val_loss: 0.8505 - val_accuracy: 0.5702\n",
      "Epoch 15/20\n",
      "8/8 [==============================] - 0s 27ms/step - loss: 0.8227 - accuracy: 0.6074 - val_loss: 0.8483 - val_accuracy: 0.5702\n",
      "Epoch 16/20\n",
      "8/8 [==============================] - 0s 23ms/step - loss: 0.8188 - accuracy: 0.6074 - val_loss: 0.8462 - val_accuracy: 0.5702\n",
      "Epoch 17/20\n",
      "8/8 [==============================] - 0s 23ms/step - loss: 0.8151 - accuracy: 0.6198 - val_loss: 0.8441 - val_accuracy: 0.5789\n",
      "Epoch 18/20\n",
      "8/8 [==============================] - 0s 23ms/step - loss: 0.8116 - accuracy: 0.6240 - val_loss: 0.8422 - val_accuracy: 0.5789\n",
      "Epoch 19/20\n",
      "8/8 [==============================] - 0s 23ms/step - loss: 0.8083 - accuracy: 0.6322 - val_loss: 0.8404 - val_accuracy: 0.5789\n",
      "Epoch 20/20\n",
      "8/8 [==============================] - 0s 22ms/step - loss: 0.8052 - accuracy: 0.6322 - val_loss: 0.8387 - val_accuracy: 0.5702\n",
      "4/4 [==============================] - 0s 5ms/step - loss: 0.8387 - accuracy: 0.5702\n",
      "    Model accuracy in text validation data: 0.5701754093170166\n",
      "4/4 [==============================] - 0s 6ms/step - loss: 0.8387 - accuracy: 0.5702\n",
      "Loss:  0.8386615514755249\n",
      "Accuracy:  0.5701754093170166\n",
      "\n",
      "Saving model in deep_autoviml/text_model now...this will take time...\n"
     ]
    },
    {
     "name": "stderr",
     "output_type": "stream",
     "text": [
      "WARNING:absl:Found untraced functions such as _destroy_resource while saving (showing 1 of 1). These functions will not be directly callable after loading.\n",
      "Exception ignored in: <function CapturableResource.__del__ at 0x7b65b0d3fe50>\n",
      "Traceback (most recent call last):\n",
      "  File \"/home/rseshadri/anaconda3/lib/python3.8/site-packages/tensorflow/python/training/tracking/tracking.py\", line 277, in __del__\n",
      "    self._destroy_resource()\n",
      "  File \"/home/rseshadri/anaconda3/lib/python3.8/site-packages/tensorflow/python/eager/def_function.py\", line 889, in __call__\n",
      "    result = self._call(*args, **kwds)\n",
      "  File \"/home/rseshadri/anaconda3/lib/python3.8/site-packages/tensorflow/python/eager/def_function.py\", line 933, in _call\n",
      "    self._initialize(args, kwds, add_initializers_to=initializers)\n",
      "  File \"/home/rseshadri/anaconda3/lib/python3.8/site-packages/tensorflow/python/eager/def_function.py\", line 763, in _initialize\n",
      "    self._stateful_fn._get_concrete_function_internal_garbage_collected(  # pylint: disable=protected-access\n",
      "  File \"/home/rseshadri/anaconda3/lib/python3.8/site-packages/tensorflow/python/eager/function.py\", line 3050, in _get_concrete_function_internal_garbage_collected\n",
      "    graph_function, _ = self._maybe_define_function(args, kwargs)\n",
      "  File \"/home/rseshadri/anaconda3/lib/python3.8/site-packages/tensorflow/python/eager/function.py\", line 3444, in _maybe_define_function\n",
      "    graph_function = self._create_graph_function(args, kwargs)\n",
      "  File \"/home/rseshadri/anaconda3/lib/python3.8/site-packages/tensorflow/python/eager/function.py\", line 3279, in _create_graph_function\n",
      "    func_graph_module.func_graph_from_py_func(\n",
      "  File \"/home/rseshadri/anaconda3/lib/python3.8/site-packages/tensorflow/python/framework/func_graph.py\", line 999, in func_graph_from_py_func\n",
      "    func_outputs = python_func(*func_args, **func_kwargs)\n",
      "  File \"/home/rseshadri/anaconda3/lib/python3.8/site-packages/tensorflow/python/eager/def_function.py\", line 672, in wrapped_fn\n",
      "    out = weak_wrapped_fn().__wrapped__(*args, **kwds)\n",
      "  File \"/home/rseshadri/anaconda3/lib/python3.8/site-packages/tensorflow/python/eager/function.py\", line 3971, in bound_method_wrapper\n",
      "    return wrapped_fn(*args, **kwargs)\n",
      "  File \"/home/rseshadri/anaconda3/lib/python3.8/site-packages/tensorflow/python/framework/func_graph.py\", line 986, in wrapper\n",
      "    raise e.ag_error_metadata.to_exception(e)\n",
      "RuntimeError: in user code:\n",
      "\n",
      "    /home/rseshadri/anaconda3/lib/python3.8/site-packages/tensorflow/python/saved_model/load.py:655 _destroy_resource  *\n",
      "        raise RuntimeError()\n",
      "\n",
      "    RuntimeError: \n",
      "\n"
     ]
    },
    {
     "name": "stdout",
     "output_type": "stream",
     "text": [
      "     deep_autoviml text saved in deep_autoviml/text_model directory\n",
      "Model: \"sequential_6\"\n",
      "_________________________________________________________________\n",
      "Layer (type)                 Output Shape              Param #   \n",
      "=================================================================\n",
      "keras_layer (KerasLayer)     (None, 20)                400020    \n",
      "_________________________________________________________________\n",
      "dense_11 (Dense)             (None, 16)                336       \n",
      "_________________________________________________________________\n",
      "dense_12 (Dense)             (None, 3)                 51        \n",
      "=================================================================\n",
      "Total params: 400,407\n",
      "Trainable params: 387\n",
      "Non-trainable params: 400,020\n",
      "_________________________________________________________________\n",
      "None\n"
     ]
    },
    {
     "data": {
      "image/png": "[encoded data removed]",
      "text/plain": [
       "<Figure size 576x432 with 1 Axes>"
      ]
     },
     "metadata": {
      "needs_background": "light"
     },
     "output_type": "display_data"
    }
   ],
   "source": [
    "model, cat_vocab_dict = deepauto.fit(text_data_or_file, \"Sentiment\", keras_model_type=keras_model_type,\n",
    "\t\tproject_name=project_name, keras_options=keras_options,  \n",
    "\t\tmodel_options=model_options, save_model_flag=True, use_my_model='',\n",
    "\t\tmodel_use_case='', verbose=0)"
   ]
  },
  {
   "cell_type": "code",
   "execution_count": 6,
   "metadata": {},
   "outputs": [],
   "source": [
    "from deep_autoviml.modeling.predict_model import predict_text"
   ]
  },
  {
   "cell_type": "code",
   "execution_count": 7,
   "metadata": {
    "scrolled": false
   },
   "outputs": [
    {
     "name": "stdout",
     "output_type": "stream",
     "text": [
      "\n",
      "Using <tensorflow.python.keras.engine.sequential.Sequential object at 0x7b6522045880> model provided as input...\n",
      "Time taken to load saved model = 0 seconds\n",
      "    loading and predicting on CSV file : ../../data_sets/NLP_small.csv\n",
      "Loaded test data size: 498\n",
      "Alert! Modified column names to satisfy rules for column names in Tensorflow...\n",
      "    test data loaded successfully.\n",
      "    number of steps needed to predict: 16\n",
      "    Sample predictions before inverse_transform: [0 0 0 0 0]\n",
      "    Sample predictions after inverse_transform: [1 1 1 1 1]\n"
     ]
    },
    {
     "data": {
      "text/plain": [
       "[array([[0.94 , 0.169, 0.817],\n",
       "        [0.822, 0.298, 0.741],\n",
       "        [0.839, 0.397, 0.805],\n",
       "        ...,\n",
       "        [0.88 , 0.246, 0.682],\n",
       "        [0.916, 0.153, 0.81 ],\n",
       "        [0.715, 0.311, 0.681]], dtype=float32),\n",
       " array([1, 1, 1, 1, 1, 1, 1, 1, 1, 1, 1, 1, 1, 1, 1, 3, 3, 1, 1, 1, 1, 1,\n",
       "        1, 1, 1, 1, 1, 1, 1, 3, 1, 3, 1, 1, 1, 1, 1, 1, 1, 1, 1, 1, 1, 1,\n",
       "        1, 1, 1, 1, 1, 3, 1, 1, 3, 1, 1, 3, 1, 1, 1, 1, 1, 1, 1, 1, 1, 1,\n",
       "        1, 1, 1, 1, 1, 1, 1, 1, 1, 1, 1, 1, 1, 1, 1, 1, 1, 1, 1, 1, 1, 1,\n",
       "        1, 3, 1, 1, 1, 1, 3, 1, 1, 1, 1, 1, 1, 1, 1, 1, 1, 1, 1, 1, 1, 1,\n",
       "        1, 1, 1, 1, 1, 1, 1, 1, 1, 1, 1, 1, 1, 3, 1, 1, 1, 1, 1, 1, 1, 1,\n",
       "        1, 1, 3, 1, 1, 1, 1, 1, 1, 1, 1, 1, 1, 1, 1, 1, 1, 1, 1, 3, 1, 1,\n",
       "        1, 1, 1, 1, 1, 1, 1, 3, 1, 3, 1, 1, 1, 1, 1, 1, 3, 1, 1, 3, 1, 1,\n",
       "        1, 1, 1, 1, 1, 1, 1, 1, 1, 3, 1, 1, 1, 1, 1, 1, 1, 1, 1, 1, 1, 1,\n",
       "        1, 1, 1, 1, 1, 3, 1, 1, 3, 3, 1, 1, 1, 1, 1, 1, 1, 1, 1, 1, 1, 1,\n",
       "        1, 1, 1, 1, 1, 1, 1, 1, 1, 1, 1, 1, 1, 1, 1, 1, 1, 1, 1, 1, 3, 1,\n",
       "        1, 1, 1, 1, 1, 1, 1, 1, 1, 1, 1, 1, 1, 1, 3, 1, 1, 1, 1, 1, 1, 1,\n",
       "        1, 1, 1, 1, 3, 1, 1, 1, 1, 1, 1, 1, 1, 1, 1, 3, 1, 1, 1, 1, 1, 1,\n",
       "        1, 1, 3, 1, 1, 1, 1, 1, 3, 1, 1, 1, 1, 1, 1, 1, 1, 1, 3, 1, 1, 1,\n",
       "        1, 1, 3, 1, 1, 1, 1, 1, 1, 1, 1, 1, 1, 1, 1, 1, 1, 1, 1, 1, 1, 1,\n",
       "        1, 1, 1, 1, 1, 1, 1, 1, 1, 1, 1, 1, 1, 1, 1, 3, 1, 1, 1, 1, 3, 1,\n",
       "        1, 1, 1, 1, 1, 1, 1, 1, 1, 1, 1, 1, 1, 1, 1, 1, 1, 3, 3, 1, 1, 1,\n",
       "        1, 1, 1, 1, 1, 1, 1, 1, 1, 1, 1, 1, 1, 1, 1, 1, 1, 3, 1, 1, 1, 1,\n",
       "        3, 1, 1, 1, 1, 1, 1, 1, 3, 1, 1, 1, 3, 1, 1, 1, 1, 1, 1, 1, 1, 1,\n",
       "        1, 1, 1, 1, 1, 1, 1, 1, 1, 1, 1, 1, 1, 1, 3, 1, 1, 1, 1, 1, 1, 1,\n",
       "        1, 1, 1, 1, 3, 1, 1, 3, 1, 1, 1, 1, 1, 1, 1, 3, 1, 1, 1, 3, 1, 1,\n",
       "        1, 1, 1, 3, 1, 1, 1, 1, 1, 1, 1, 1, 1, 1, 1, 1, 3, 1, 1, 1, 1, 1,\n",
       "        1, 1, 1, 1, 1, 1, 1, 1, 1, 1, 1, 1, 1, 1, 1, 1, 1, 1, 1, 1, 1, 1,\n",
       "        1, 1, 1, 1, 1, 1])]"
      ]
     },
     "execution_count": 7,
     "metadata": {},
     "output_type": "execute_result"
    }
   ],
   "source": [
    "test_text_dir = '../../data_sets/NLP_small.csv'\n",
    "predict_text(test_text_dir, model, cat_vocab_dict)"
   ]
  },
  {
   "cell_type": "code",
   "execution_count": null,
   "metadata": {},
   "outputs": [],
   "source": []
  },
  {
   "cell_type": "raw",
   "metadata": {},
   "source": [
    "import matplotlib.pyplot as plt\n",
    "import os\n",
    "import re\n",
    "import shutil\n",
    "import string\n",
    "import tensorflow as tf\n",
    "\n",
    "from tensorflow.keras import layers\n",
    "from tensorflow.keras import losses\n",
    "from tensorflow.keras import preprocessing\n",
    "from tensorflow.keras.layers.experimental.preprocessing import TextVectorization\n",
    "print(tf.__version__)"
   ]
  },
  {
   "cell_type": "raw",
   "metadata": {},
   "source": [
    "url = \"https://ai.stanford.edu/~amaas/data/sentiment/aclImdb_v1.tar.gz\"\n",
    "\n",
    "dataset = tf.keras.utils.get_file(\"aclImdb_v1\", url,\n",
    "                                    untar=True, cache_dir='.',\n",
    "                                    cache_subdir='')\n",
    "\n",
    "dataset_dir = os.path.join(os.path.dirname(dataset), 'aclImdb')"
   ]
  },
  {
   "cell_type": "raw",
   "metadata": {},
   "source": [
    "os.listdir(dataset_dir)"
   ]
  },
  {
   "cell_type": "raw",
   "metadata": {},
   "source": [
    "train_dir = os.path.join(dataset_dir, 'train')\n",
    "os.listdir(train_dir)"
   ]
  },
  {
   "cell_type": "raw",
   "metadata": {},
   "source": [
    "sample_file = os.path.join(train_dir, 'pos/1181_9.txt')\n",
    "with open(sample_file) as f:\n",
    "  print(f.read())"
   ]
  },
  {
   "cell_type": "raw",
   "metadata": {},
   "source": [
    "remove_dir = os.path.join(train_dir, 'unsup')\n",
    "shutil.rmtree(remove_dir)"
   ]
  },
  {
   "cell_type": "code",
   "execution_count": null,
   "metadata": {},
   "outputs": [],
   "source": []
  }
 ],
 "metadata": {
  "kernelspec": {
   "display_name": "Python 3",
   "language": "python",
   "name": "python3"
  },
  "language_info": {
   "codemirror_mode": {
    "name": "ipython",
    "version": 3
   },
   "file_extension": ".py",
   "mimetype": "text/x-python",
   "name": "python",
   "nbconvert_exporter": "python",
   "pygments_lexer": "ipython3",
   "version": "3.8.3"
  }
 },
 "nbformat": 4,
 "nbformat_minor": 4
}
